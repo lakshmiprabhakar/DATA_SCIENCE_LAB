{
  "nbformat": 4,
  "nbformat_minor": 0,
  "metadata": {
    "colab": {
      "provenance": [],
      "authorship_tag": "ABX9TyMIeY1rlAmQlh7lWhEqafhh",
      "include_colab_link": true
    },
    "kernelspec": {
      "name": "python3",
      "display_name": "Python 3"
    },
    "language_info": {
      "name": "python"
    }
  },
  "cells": [
    {
      "cell_type": "markdown",
      "metadata": {
        "id": "view-in-github",
        "colab_type": "text"
      },
      "source": [
        "<a href=\"https://colab.research.google.com/github/lakshmiprabhakar/DATA_SCIENCE_LAB/blob/main/cyc2_prgm7.ipynb\" target=\"_parent\"><img src=\"https://colab.research.google.com/assets/colab-badge.svg\" alt=\"Open In Colab\"/></a>"
      ]
    },
    {
      "cell_type": "code",
      "execution_count": 8,
      "metadata": {
        "colab": {
          "base_uri": "https://localhost:8080/"
        },
        "id": "6fjfJOhNNScW",
        "outputId": "ca17e061-2715-4336-c074-725d81a4bd62"
      },
      "outputs": [
        {
          "output_type": "stream",
          "name": "stdout",
          "text": [
            "A= [[1 2]\n",
            " [3 4]\n",
            " [5 6]]\n",
            "Pseudoinverse of matrix A calculated by function pinv is:\n",
            "[[-1.33333333 -0.33333333  0.66666667]\n",
            " [ 1.08333333  0.33333333 -0.41666667]]\n",
            "Pseudoinverse of matrix A calculated by using svd is:\n",
            "[[-1.33333333 -0.33333333  0.66666667]\n",
            " [ 1.08333333  0.33333333 -0.41666667]]\n"
          ]
        }
      ],
      "source": [
        "from numpy import array, diag, zeros\n",
        "from scipy.linalg import pinv\n",
        "from numpy.linalg import svd\n",
        "\n",
        "A = array([[1, 2], [3, 4], [5, 6]])\n",
        "print(\"A=\",A)\n",
        "print(\"Pseudoinverse of matrix A calculated by function pinv is:\")\n",
        "print(pinv(A))\n",
        "\n",
        "U, s, VT = svd(A)\n",
        "d = 1.0 / s\n",
        "D = zeros(A.shape)\n",
        "D[:A.shape[1], :A.shape[1]] = diag(d)\n",
        "B = VT.T.dot(D.T).dot(U.T)\n",
        "\n",
        "print(\"Pseudoinverse of matrix A calculated by using svd is:\")\n",
        "print(B)\n"
      ]
    }
  ]
}