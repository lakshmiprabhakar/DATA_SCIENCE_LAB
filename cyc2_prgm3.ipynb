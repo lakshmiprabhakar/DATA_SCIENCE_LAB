{
  "nbformat": 4,
  "nbformat_minor": 0,
  "metadata": {
    "colab": {
      "provenance": [],
      "authorship_tag": "ABX9TyPeu1LzShfS42s795IqzM/V",
      "include_colab_link": true
    },
    "kernelspec": {
      "name": "python3",
      "display_name": "Python 3"
    },
    "language_info": {
      "name": "python"
    }
  },
  "cells": [
    {
      "cell_type": "markdown",
      "metadata": {
        "id": "view-in-github",
        "colab_type": "text"
      },
      "source": [
        "<a href=\"https://colab.research.google.com/github/lakshmiprabhakar/DATA_SCIENCE_LAB/blob/main/cyc2_prgm3.ipynb\" target=\"_parent\"><img src=\"https://colab.research.google.com/assets/colab-badge.svg\" alt=\"Open In Colab\"/></a>"
      ]
    },
    {
      "cell_type": "code",
      "execution_count": 2,
      "metadata": {
        "colab": {
          "base_uri": "https://localhost:8080/"
        },
        "id": "6fjfJOhNNScW",
        "outputId": "e0f5fffe-a57e-45a7-b774-e7b19c10858e"
      },
      "outputs": [
        {
          "output_type": "stream",
          "name": "stdout",
          "text": [
            "Element wise addition: [[2. 4.]\n",
            " [6. 8.]]\n",
            "x = [[1. 2.]\n",
            " [3. 4.]]\n",
            "y = [[6. 9.]\n",
            " [4. 4.]]\n",
            "Element wise subtraction: [[-5. -7.]\n",
            " [-1.  0.]]\n",
            "Element wise multiplication: [[ 6. 18.]\n",
            " [12. 16.]]\n",
            "Element wise square root of x: [[1.         1.41421356]\n",
            " [1.73205081 2.        ]]\n",
            "Matrix multiplication: [[14. 17.]\n",
            " [34. 43.]]\n",
            "Sum of all elements of matrix x: 10.0\n",
            "Sum of elements in each column of matrix y: [10. 13.]\n",
            "Sum of elements in each row of matrix y: [15.  8.]\n",
            "Transpose of matrix x: [[1. 3.]\n",
            " [2. 4.]]\n"
          ]
        }
      ],
      "source": [
        "import numpy as np\n",
        "\n",
        "x = np.array([[1, 2], [3, 4]], dtype=np.float64)\n",
        "y = np.array([[6, 9], [4, 4]], dtype=np.float64)\n",
        "\n",
        "print(\"Element wise addition:\", np.add(x, x))\n",
        "print(\"x =\", x)\n",
        "print(\"y =\", y)\n",
        "print(\"Element wise subtraction:\", np.subtract(x, y))\n",
        "print(\"Element wise multiplication:\", np.multiply(x, y))\n",
        "print(\"Element wise square root of x:\", np.sqrt(x))\n",
        "print(\"Matrix multiplication:\", np.dot(x, y))\n",
        "print(\"Sum of all elements of matrix x:\", np.sum(x))\n",
        "print(\"Sum of elements in each column of matrix y:\", np.sum(y, axis=0))\n",
        "print(\"Sum of elements in each row of matrix y:\", np.sum(y, axis=1))\n",
        "print(\"Transpose of matrix x:\", x.T)"
      ]
    }
  ]
}