{
  "nbformat": 4,
  "nbformat_minor": 0,
  "metadata": {
    "colab": {
      "provenance": [],
      "authorship_tag": "ABX9TyNDi7mFomOGHSKunJOoxGnt",
      "include_colab_link": true
    },
    "kernelspec": {
      "name": "python3",
      "display_name": "Python 3"
    },
    "language_info": {
      "name": "python"
    }
  },
  "cells": [
    {
      "cell_type": "markdown",
      "metadata": {
        "id": "view-in-github",
        "colab_type": "text"
      },
      "source": [
        "<a href=\"https://colab.research.google.com/github/lakshmiprabhakar/DATA_SCIENCE_LAB/blob/main/cyc2_prgm5.ipynb\" target=\"_parent\"><img src=\"https://colab.research.google.com/assets/colab-badge.svg\" alt=\"Open In Colab\"/></a>"
      ]
    },
    {
      "cell_type": "code",
      "execution_count": 3,
      "metadata": {
        "colab": {
          "base_uri": "https://localhost:8080/"
        },
        "id": "6fjfJOhNNScW",
        "outputId": "1ba153e6-9146-4b95-ed3e-0970135eeddd"
      },
      "outputs": [
        {
          "output_type": "stream",
          "name": "stdout",
          "text": [
            "A = [[1 2]\n",
            " [3 4]\n",
            " [5 6]]\n",
            "Shape of array A: (3, 2)\n",
            "\n",
            "U = [[-0.2298477   0.88346102  0.40824829]\n",
            " [-0.52474482  0.24078249 -0.81649658]\n",
            " [-0.81964194 -0.40189603  0.40824829]]\n",
            "Shape of matrix U: (3, 3)\n",
            "\n",
            "Sigma (diagonal matrix), s = [9.52551809 0.51430058]\n",
            "Shape of matrix sigma: (2,)\n",
            "\n",
            "Transpose Matrix, VT = [[-0.61962948 -0.78489445]\n",
            " [-0.78489445  0.61962948]]\n",
            "Shape of matrix VT: (2, 2)\n"
          ]
        }
      ],
      "source": [
        "from numpy import array\n",
        "from scipy.linalg import svd\n",
        "\n",
        "A = array([[1, 2], [3, 4], [5, 6]])\n",
        "U, s, VT = svd(A)\n",
        "\n",
        "print(\"A =\", A)\n",
        "print(\"Shape of array A:\", A.shape)\n",
        "print(\"\")\n",
        "print(\"U =\", U)\n",
        "print(\"Shape of matrix U:\", U.shape)\n",
        "print(\"\")\n",
        "print(\"Sigma (diagonal matrix), s =\", s)\n",
        "print(\"Shape of matrix sigma:\", s.shape)\n",
        "print(\"\")\n",
        "print(\"Transpose Matrix, VT =\", VT)\n",
        "print(\"Shape of matrix VT:\", VT.shape)"
      ]
    }
  ]
}