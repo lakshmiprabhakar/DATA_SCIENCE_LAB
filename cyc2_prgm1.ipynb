{
  "nbformat": 4,
  "nbformat_minor": 0,
  "metadata": {
    "colab": {
      "provenance": [],
      "authorship_tag": "ABX9TyO1ZGechvO/BH/5o3Vt8f7h",
      "include_colab_link": true
    },
    "kernelspec": {
      "name": "python3",
      "display_name": "Python 3"
    },
    "language_info": {
      "name": "python"
    }
  },
  "cells": [
    {
      "cell_type": "markdown",
      "metadata": {
        "id": "view-in-github",
        "colab_type": "text"
      },
      "source": [
        "<a href=\"https://colab.research.google.com/github/lakshmiprabhakar/DATA_SCIENCE_LAB/blob/main/cyc2_prgm1.ipynb\" target=\"_parent\"><img src=\"https://colab.research.google.com/assets/colab-badge.svg\" alt=\"Open In Colab\"/></a>"
      ]
    },
    {
      "cell_type": "code",
      "execution_count": 5,
      "metadata": {
        "colab": {
          "base_uri": "https://localhost:8080/"
        },
        "id": "6fjfJOhNNScW",
        "outputId": "dfe9fbc8-c90b-47c0-d525-91d643cbca29"
      },
      "outputs": [
        {
          "output_type": "stream",
          "name": "stdout",
          "text": [
            "One dimensional array a= [1 2 3]\n",
            "Two dimensional array b= [[1 2 3]\n",
            " [4 5 6]]\n",
            "Size of the array: (3,)\n",
            "Element at indices 0,1,2: 1 2 3\n",
            "Array after changing the element at index 0: [5 2 3]\n",
            "An array of all zeros: [[0. 0.]\n",
            " [0. 0.]]\n",
            "An array of all ones: [[1. 1.]]\n",
            "A constant array: [[7 7]\n",
            " [7 7]]\n",
            "A 2*2 identity matrix: [[1. 0.]\n",
            " [0. 1.]]\n",
            "An array with random values: [[0.06368476 0.01869505]\n",
            " [0.40832538 0.38933947]]\n"
          ]
        }
      ],
      "source": [
        "import numpy as np\n",
        "a=np.array([1,2,3])\n",
        "print(\"One dimensional array a=\",a)\n",
        "b=np.array([[1,2,3],[4,5,6]])\n",
        "print(\"Two dimensional array b=\",b)\n",
        "print(\"Size of the array:\",a.shape)\n",
        "print(\"Element at indices 0,1,2:\",a[0],a[1],a[2])\n",
        "a[0]=5\n",
        "print(\"Array after changing the element at index 0:\",a)\n",
        "a=np.zeros((2,2))\n",
        "print(\"An array of all zeros:\",a)\n",
        "b=np.ones((1,2))\n",
        "print(\"An array of all ones:\",b)\n",
        "c=np.full((2,2),7)\n",
        "print(\"A constant array:\",c)\n",
        "d=np.eye(2)\n",
        "print(\"A 2*2 identity matrix:\",d)\n",
        "e=np.random.random((2,2))\n",
        "print(\"An array with random values:\",e)\n"
      ]
    }
  ]
}