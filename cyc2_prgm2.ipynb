{
  "nbformat": 4,
  "nbformat_minor": 0,
  "metadata": {
    "colab": {
      "provenance": [],
      "authorship_tag": "ABX9TyMt2dTzbPLUwapf0pay+sfy",
      "include_colab_link": true
    },
    "kernelspec": {
      "name": "python3",
      "display_name": "Python 3"
    },
    "language_info": {
      "name": "python"
    }
  },
  "cells": [
    {
      "cell_type": "markdown",
      "metadata": {
        "id": "view-in-github",
        "colab_type": "text"
      },
      "source": [
        "<a href=\"https://colab.research.google.com/github/lakshmiprabhakar/DATA_SCIENCE_LAB/blob/main/cyc2_prgm2.ipynb\" target=\"_parent\"><img src=\"https://colab.research.google.com/assets/colab-badge.svg\" alt=\"Open In Colab\"/></a>"
      ]
    },
    {
      "cell_type": "code",
      "execution_count": 1,
      "metadata": {
        "colab": {
          "base_uri": "https://localhost:8080/"
        },
        "id": "6fjfJOhNNScW",
        "outputId": "76785c11-3874-4970-a2f3-a172c3c8f1e3"
      },
      "outputs": [
        {
          "output_type": "stream",
          "name": "stdout",
          "text": [
            "Array indexing: slicing\n",
            "a1 = [[ 1  2  3  4]\n",
            " [ 5  6  7  8]\n",
            " [ 9 10 11 12]]\n",
            "Subarray consisting of the first two rows and columns 1 and 2: [[2 3]\n",
            " [6 7]]\n",
            "Subarray consists of the second row: [[5 6 7 8]]\n",
            "Accessing columns:\n",
            "[[ 2]\n",
            " [ 6]\n",
            " [10]] (3, 1)\n",
            "Array integer indexing:\n",
            "a2 = [[1 2]\n",
            " [3 4]\n",
            " [5 6]]\n",
            "Example of array integer indexing: [1 4 5]\n",
            "[2 2]\n",
            "[2 2]\n",
            "a3 = [[ 1  2  3]\n",
            " [ 4  5  6]\n",
            " [ 7  8  9]\n",
            " [10 11 12]]\n",
            "b = [0 2 0 1]\n",
            "Select one element from each row of a using the indices in b:\n",
            "a3 = [ 1  6  7 11]\n",
            "a3 = [[11  2  3]\n",
            " [ 4  5 16]\n",
            " [17  8  9]\n",
            " [10 21 12]]\n",
            "Boolean array indexing:\n",
            "a = [[1 2]\n",
            " [3 4]\n",
            " [5 6]]\n",
            "Elements greater than 2: [3 4 5 6]\n"
          ]
        }
      ],
      "source": [
        "import numpy as np\n",
        "\n",
        "print(\"Array indexing: slicing\")\n",
        "a1 = np.array([[1, 2, 3, 4], [5, 6, 7, 8], [9, 10, 11, 12]])\n",
        "print(\"a1 =\", a1)\n",
        "\n",
        "b = a1[:2, 1:3]\n",
        "print(\"Subarray consisting of the first two rows and columns 1 and 2:\", b)\n",
        "\n",
        "b = a1[1:2, :]\n",
        "print(\"Subarray consists of the second row:\", b)\n",
        "\n",
        "print(\"Accessing columns:\")\n",
        "c = a1[:, 1:2]\n",
        "print(c, c.shape)\n",
        "\n",
        "print(\"Array integer indexing:\")\n",
        "a2 = np.array([[1, 2], [3, 4], [5, 6]])\n",
        "print(\"a2 =\", a2)\n",
        "\n",
        "print(\"Example of array integer indexing:\", a2[[0, 1, 2], [0, 1, 0]])\n",
        "print(a2[[0, 0], [1, 1]])\n",
        "print(np.array([a2[0, 1], a2[0, 1]]))\n",
        "\n",
        "a3 = np.array([[1, 2, 3], [4, 5, 6], [7, 8, 9], [10, 11, 12]])\n",
        "print(\"a3 =\", a3)\n",
        "\n",
        "# Create an array of indices\n",
        "b = np.array([0, 2, 0, 1])\n",
        "print(\"b =\", b)\n",
        "\n",
        "print(\"Select one element from each row of a using the indices in b:\")\n",
        "print(\"a3 =\", a3[np.arange(4), b])\n",
        "\n",
        "a3[np.arange(4), b] += 10\n",
        "print(\"a3 =\", a3)\n",
        "\n",
        "print(\"Boolean array indexing:\")\n",
        "a = np.array([[1, 2], [3, 4], [5, 6]])\n",
        "print(\"a =\", a)\n",
        "\n",
        "bool_idx = (a > 2)\n",
        "print(\"Elements greater than 2:\", a[bool_idx])"
      ]
    }
  ]
}